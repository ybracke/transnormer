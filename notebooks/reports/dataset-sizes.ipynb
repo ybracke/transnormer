{
 "cells": [
  {
   "attachments": {},
   "cell_type": "markdown",
   "metadata": {},
   "source": [
    "# Dataset sizes"
   ]
  },
  {
   "attachments": {},
   "cell_type": "markdown",
   "metadata": {},
   "source": [
    "Statistics on the datasets used for training and testing"
   ]
  },
  {
   "cell_type": "code",
   "execution_count": 2,
   "metadata": {},
   "outputs": [],
   "source": [
    "import datasets\n",
    "import pandas as pd \n",
    "\n",
    "from transnormer.data import loader"
   ]
  },
  {
   "cell_type": "code",
   "execution_count": 7,
   "metadata": {},
   "outputs": [
    {
     "name": "stdout",
     "output_type": "stream",
     "text": [
      "Line 8257 does not have length 2 but 3 skip line: '.\t.I.\tI.'\n",
      "Line 10671 does not have length 2 but 3 skip line: '.\t.Vorred\tVorrede'\n",
      "Line 16413 does not have length 2 but 1 skip line: 'dañ'\n"
     ]
    }
   ],
   "source": [
    "\n",
    "paths = [\n",
    "    \"../../data/raw/ridges/bollmann-split/ridges.dev.txt\",\n",
    "    \"../../data/raw/ridges/bollmann-split/ridges.test.txt\",\n",
    "    \"../../data/raw/ridges/bollmann-split/ridges.train.txt\",\n",
    "    \"../../data/raw/dta/dtaeval/split-v3.0/xml/dev\",\n",
    "    \"../../data/raw/dta/dtaeval/split-v3.0/xml/test\",\n",
    "    \"../../data/raw/dta/dtaeval/split-v3.0/xml/train\",\n",
    "    \"../../data/raw/leipzig-corpora/deu_news_2020_1M-sentences.txt\",\n",
    "    ]\n",
    "\n",
    "\n",
    "df_data = {\"name\" : [], \"split\" : [], \"examples\" : [] }\n",
    "for name, split, data in loader.load_data(paths):\n",
    "    ds = datasets.Dataset.from_dict(data)\n",
    "    df_data[\"name\"].append(name)\n",
    "    df_data[\"split\"].append(split)\n",
    "    df_data[\"examples\"].append(ds.num_rows)\n",
    "df = pd.DataFrame(data=df_data)\n"
   ]
  },
  {
   "cell_type": "code",
   "execution_count": 8,
   "metadata": {},
   "outputs": [
    {
     "data": {
      "text/html": [
       "<div>\n",
       "<style scoped>\n",
       "    .dataframe tbody tr th:only-of-type {\n",
       "        vertical-align: middle;\n",
       "    }\n",
       "\n",
       "    .dataframe tbody tr th {\n",
       "        vertical-align: top;\n",
       "    }\n",
       "\n",
       "    .dataframe thead th {\n",
       "        text-align: right;\n",
       "    }\n",
       "</style>\n",
       "<table border=\"1\" class=\"dataframe\">\n",
       "  <thead>\n",
       "    <tr style=\"text-align: right;\">\n",
       "      <th></th>\n",
       "      <th>name</th>\n",
       "      <th>split</th>\n",
       "      <th>examples</th>\n",
       "    </tr>\n",
       "  </thead>\n",
       "  <tbody>\n",
       "    <tr>\n",
       "      <th>0</th>\n",
       "      <td>ridges_bollmann</td>\n",
       "      <td>validation</td>\n",
       "      <td>671</td>\n",
       "    </tr>\n",
       "    <tr>\n",
       "      <th>1</th>\n",
       "      <td>ridges_bollmann</td>\n",
       "      <td>test</td>\n",
       "      <td>671</td>\n",
       "    </tr>\n",
       "    <tr>\n",
       "      <th>2</th>\n",
       "      <td>ridges_bollmann</td>\n",
       "      <td>train</td>\n",
       "      <td>2921</td>\n",
       "    </tr>\n",
       "    <tr>\n",
       "      <th>3</th>\n",
       "      <td>dtaeval</td>\n",
       "      <td>validation</td>\n",
       "      <td>18278</td>\n",
       "    </tr>\n",
       "    <tr>\n",
       "      <th>4</th>\n",
       "      <td>dtaeval</td>\n",
       "      <td>test</td>\n",
       "      <td>21916</td>\n",
       "    </tr>\n",
       "    <tr>\n",
       "      <th>5</th>\n",
       "      <td>dtaeval</td>\n",
       "      <td>train</td>\n",
       "      <td>200524</td>\n",
       "    </tr>\n",
       "    <tr>\n",
       "      <th>6</th>\n",
       "      <td>deu_news_2020</td>\n",
       "      <td></td>\n",
       "      <td>1000000</td>\n",
       "    </tr>\n",
       "  </tbody>\n",
       "</table>\n",
       "</div>"
      ],
      "text/plain": [
       "              name       split  examples\n",
       "0  ridges_bollmann  validation       671\n",
       "1  ridges_bollmann        test       671\n",
       "2  ridges_bollmann       train      2921\n",
       "3          dtaeval  validation     18278\n",
       "4          dtaeval        test     21916\n",
       "5          dtaeval       train    200524\n",
       "6    deu_news_2020               1000000"
      ]
     },
     "execution_count": 8,
     "metadata": {},
     "output_type": "execute_result"
    }
   ],
   "source": [
    "df"
   ]
  }
 ],
 "metadata": {
  "kernelspec": {
   "display_name": "gpu-venv-transnormer",
   "language": "python",
   "name": "python3"
  },
  "language_info": {
   "codemirror_mode": {
    "name": "ipython",
    "version": 3
   },
   "file_extension": ".py",
   "mimetype": "text/x-python",
   "name": "python",
   "nbconvert_exporter": "python",
   "pygments_lexer": "ipython3",
   "version": "3.9.16"
  },
  "orig_nbformat": 4,
  "vscode": {
   "interpreter": {
    "hash": "78c4187baaf57098bb0b3703ce789bfcb46625a5d8666ee97b80d797f8c6f211"
   }
  }
 },
 "nbformat": 4,
 "nbformat_minor": 2
}
