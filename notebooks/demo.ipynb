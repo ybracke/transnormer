{
 "cells": [
  {
   "cell_type": "code",
   "execution_count": null,
   "metadata": {},
   "outputs": [],
   "source": [
    "from pprint import pprint\n",
    "import transformers\n",
    "\n",
    "tokenizer_input = transformers.AutoTokenizer.from_pretrained(\"google/byt5-small\")\n",
    "tokenizer_output = tokenizer_input\n",
    "model = transformers.T5ForConditionalGeneration.from_pretrained(\"ybracke/transnormer-dtaeval-v01\")\n",
    "\n",
    "\n",
    "# Generation function\n",
    "def generate_normalization(sent):\n",
    "    inputs = tokenizer_input(\n",
    "        sent,\n",
    "        return_tensors=\"pt\",\n",
    "    )\n",
    "    outputs = model.generate(\n",
    "      inputs.input_ids, \n",
    "      attention_mask=inputs.attention_mask, \n",
    "      num_beams=4,\n",
    "      num_return_sequences=3,\n",
    "      no_repeat_ngram_size=0,\n",
    "      remove_invalid_values=True,\n",
    "    )\n",
    "    output_str = tokenizer_output.batch_decode(outputs, skip_special_tokens=True)\n",
    "\n",
    "    return output_str"
   ]
  },
  {
   "cell_type": "code",
   "execution_count": 2,
   "metadata": {},
   "outputs": [
    {
     "name": "stderr",
     "output_type": "stream",
     "text": [
      "/home/bracke/miniconda3/envs/gpu-venv-transnormer/lib/python3.9/site-packages/transformers/generation/utils.py:1270: UserWarning: You have modified the pretrained model configuration to control generation. This is a deprecated strategy to control generation and will be removed soon, in a future version. Please use a generation configuration file (see https://huggingface.co/docs/transformers/main_classes/text_generation )\n",
      "  warnings.warn(\n",
      "/home/bracke/miniconda3/envs/gpu-venv-transnormer/lib/python3.9/site-packages/transformers/generation/utils.py:1369: UserWarning: Using `max_length`'s default (512) to control the generation length. This behaviour is deprecated and will be removed from the config in v5 of Transformers -- we recommend using `max_new_tokens` to control the maximum length of the generation.\n",
      "  warnings.warn(\n"
     ]
    },
    {
     "name": "stdout",
     "output_type": "stream",
     "text": [
      "['Bei Gott - wir all tun hier etwas sehr Merkwürdiges',\n",
      " 'Bei Gott - wir alle tun hier etwas sehr Merkwürdiges',\n",
      " 'Bei Gott - Wir all tun hier etwas sehr Merkwürdiges']\n"
     ]
    }
   ],
   "source": [
    "input_sent = \"Bey Gott - wir all’ thun hier etwas ſehr merkwuͤrdiges\"\n",
    "norm_sent = generate_normalization(input_sent)\n",
    "pprint(norm_sent)"
   ]
  },
  {
   "cell_type": "code",
   "execution_count": 3,
   "metadata": {},
   "outputs": [
    {
     "name": "stdout",
     "output_type": "stream",
     "text": [
      "['Der Offizier musste sich dazusetzen, man trank und ließ sich es wohl sein.']\n"
     ]
    }
   ],
   "source": [
    "from transformers import AutoTokenizer, AutoModelForSeq2SeqLM\n",
    "\n",
    "tokenizer = AutoTokenizer.from_pretrained(\"ybracke/transnormer-19c-beta-v01\")\n",
    "model = AutoModelForSeq2SeqLM.from_pretrained(\"ybracke/transnormer-19c-beta-v01\")\n",
    "\n",
    "sentence = \"Der Officier mußte ſich dazu setzen, man trank und ließ ſich’s wohl ſeyn.\"\n",
    "inputs = tokenizer(sentence, return_tensors=\"pt\",)\n",
    "outputs = model.generate(**inputs)\n",
    "print(tokenizer.batch_decode(outputs, skip_special_tokens=True))"
   ]
  }
 ],
 "metadata": {
  "kernelspec": {
   "display_name": "gpu-venv-transnormer",
   "language": "python",
   "name": "python3"
  },
  "language_info": {
   "codemirror_mode": {
    "name": "ipython",
    "version": 3
   },
   "file_extension": ".py",
   "mimetype": "text/x-python",
   "name": "python",
   "nbconvert_exporter": "python",
   "pygments_lexer": "ipython3",
   "version": "3.9.16"
  },
  "orig_nbformat": 4
 },
 "nbformat": 4,
 "nbformat_minor": 2
}
