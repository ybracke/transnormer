{
 "cells": [
  {
   "cell_type": "code",
   "execution_count": null,
   "metadata": {},
   "outputs": [],
   "source": [
    "from transformers import pipeline\n",
    "\n",
    "transnormer01 = pipeline('text2text-generation',\n",
    "                       model='ybracke/transnormer-19c-beta-v01', \n",
    "                       device='cuda:1')"
   ]
  },
  {
   "cell_type": "code",
   "execution_count": null,
   "metadata": {},
   "outputs": [],
   "source": [
    "sentences = [\n",
    "    \"Der Officier mußte ſich dazu setzen, man trank und ließ ſich’s wohl ſeyn.\",\n",
    "    \"Sie giengen beyde in dem koͤniglichen Spatzierhofe auff vnd nider.\"\n",
    "    ]\n",
    "transnormer01(sentences, max_length=128)"
   ]
  },
  {
   "cell_type": "code",
   "execution_count": null,
   "metadata": {},
   "outputs": [],
   "source": [
    "transnormer02 = pipeline('text2text-generation',\n",
    "                       model='/home/bracke/code/transnormer/models/models_2024-09-12',\n",
    "                       tokenizer='google/byt5-small',\n",
    "                       device='cuda:1')"
   ]
  },
  {
   "cell_type": "code",
   "execution_count": null,
   "metadata": {},
   "outputs": [],
   "source": [
    "sentences = [\n",
    "    \"Der Officier mußte ſich dazu setzen, man trank und ließ ſich’s wohl ſeyn.\",\n",
    "    \"Sie giengen beyde in dem koͤniglichen Spatzierhofe auff vnd nider.\"\n",
    "    ]\n",
    "transnormer02(sentences, max_length=128)\n"
   ]
  }
 ],
 "metadata": {
  "kernelspec": {
   "display_name": "gpu-venv-transnormer",
   "language": "python",
   "name": "python3"
  },
  "language_info": {
   "codemirror_mode": {
    "name": "ipython",
    "version": 3
   },
   "file_extension": ".py",
   "mimetype": "text/x-python",
   "name": "python",
   "nbconvert_exporter": "python",
   "pygments_lexer": "ipython3",
   "version": "3.9.16"
  },
  "orig_nbformat": 4
 },
 "nbformat": 4,
 "nbformat_minor": 2
}
