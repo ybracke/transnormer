{
 "cells": [
  {
   "attachments": {},
   "cell_type": "markdown",
   "metadata": {},
   "source": [
    "# Demo usage"
   ]
  },
  {
   "attachments": {},
   "cell_type": "markdown",
   "metadata": {},
   "source": [
    "This notebook provides a quick demo on how to normalize text with *Transnormer* models using the Python library `transformers`. Refer to the documentation of transformers API for a detailed description of [pipelines](https://huggingface.co/transformers/main_classes/pipelines), [models](https://huggingface.co/transformers/main_classes/model) and, importantly, [strategies](https://huggingface.co/docs/transformers/v4.45.1/en/generation_strategies) and [configurations](https://huggingface.co/docs/transformers/v4.45.1/en/main_classes/text_generation#generation) for text generation. "
   ]
  },
  {
   "attachments": {},
   "cell_type": "markdown",
   "metadata": {},
   "source": [
    "Say, we want to normalize the following example sentence:"
   ]
  },
  {
   "cell_type": "code",
   "execution_count": null,
   "metadata": {},
   "outputs": [],
   "source": [
    "sentence = \"Die Königinn ſaß auf des Pallaſtes mittlerer Tribune.\""
   ]
  },
  {
   "attachments": {},
   "cell_type": "markdown",
   "metadata": {},
   "source": [
    "## Option 1: `pipeline`"
   ]
  },
  {
   "attachments": {},
   "cell_type": "markdown",
   "metadata": {},
   "source": [
    "By using a `pipeline`, we can normalize the sentence with only three lines of code:"
   ]
  },
  {
   "cell_type": "code",
   "execution_count": 1,
   "metadata": {},
   "outputs": [
    {
     "name": "stdout",
     "output_type": "stream",
     "text": [
      "[{'generated_text': 'Die Königin saß auf des Palastes mittlerer Tribüne.'}]\n"
     ]
    }
   ],
   "source": [
    "from transformers import pipeline\n",
    "\n",
    "transnormer = pipeline(model='ybracke/transnormer-19c-beta-v02', device='cuda:1')\n",
    "print(transnormer(sentence, num_beams=4, max_length=128))"
   ]
  },
  {
   "attachments": {},
   "cell_type": "markdown",
   "metadata": {},
   "source": [
    "## Option 2: `model.generate`"
   ]
  },
  {
   "attachments": {},
   "cell_type": "markdown",
   "metadata": {},
   "source": [
    "Use the tokenizer to segment the input text into bytes, then use the model's `generate` method to normalize the input. "
   ]
  },
  {
   "cell_type": "code",
   "execution_count": 11,
   "metadata": {},
   "outputs": [
    {
     "name": "stdout",
     "output_type": "stream",
     "text": [
      "['Die Königin saß auf des Palastes mittlerer Tribüne.']\n"
     ]
    }
   ],
   "source": [
    "from transformers import AutoTokenizer, AutoModelForSeq2SeqLM\n",
    "\n",
    "tokenizer = AutoTokenizer.from_pretrained(\"ybracke/transnormer-19c-beta-v02\")\n",
    "model = AutoModelForSeq2SeqLM.from_pretrained(\"ybracke/transnormer-19c-beta-v02\").to(\"cuda:1\")\n",
    "inputs = tokenizer(sentence, return_tensors=\"pt\").to(\"cuda:1\")\n",
    "outputs = model.generate(**inputs, num_beams=4, max_length=128)\n",
    "print(tokenizer.batch_decode(outputs, skip_special_tokens=True))"
   ]
  }
 ],
 "metadata": {
  "kernelspec": {
   "display_name": "gpu-venv-transnormer",
   "language": "python",
   "name": "python3"
  },
  "language_info": {
   "codemirror_mode": {
    "name": "ipython",
    "version": 3
   },
   "file_extension": ".py",
   "mimetype": "text/x-python",
   "name": "python",
   "nbconvert_exporter": "python",
   "pygments_lexer": "ipython3",
   "version": "3.9.16"
  },
  "orig_nbformat": 4
 },
 "nbformat": 4,
 "nbformat_minor": 2
}
